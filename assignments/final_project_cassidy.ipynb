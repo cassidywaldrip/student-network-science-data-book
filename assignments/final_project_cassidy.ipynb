{
 "cells": [
  {
   "cell_type": "markdown",
   "metadata": {},
   "source": [
    "# Homophily in networks\n",
    "Cassidy Waldrip\n",
    "\n",
    "#### Goal of today's class:\n",
    "\n",
    "1. Define homophily in networks\n",
    "2. Understand relevance and effects of homophily\n",
    "3. Learn to incorporate homophily into network generation\n",
    "4. Look at real world examples of homophily in networks"
   ]
  },
  {
   "cell_type": "markdown",
   "metadata": {},
   "source": [
    "## What is homophily in networks? (5 minutes)\n",
    "\n",
    "Homophily is the idea that \"similarity breeds connection\" [1]. Nodes are more likely to associate with nodes that share similar traits.\n",
    "\n",
    "* Node attributes influence connections [3] \n",
    "* Status vs. value homophily [2]\n",
    "* Preferential attachment models that account for homophily [4]"
   ]
  },
  {
   "cell_type": "markdown",
   "metadata": {},
   "source": [
    "## Where does homophily show up? (5-10 minutes)\n",
    "\n",
    "#### For each subtopic, show an example/figure (based on a paper/study)\n",
    "\n",
    "* Social networks [1] - lots of examples in this survey\n",
    "* Epidemiology [10] - contagion in networks with homophily\n",
    "* Marketing [11] - homophily between marketers and their customers"
   ]
  },
  {
   "cell_type": "markdown",
   "metadata": {},
   "source": [
    "## Effects of homophily on networks (5-10 minutes)\n",
    "\n",
    "#### Provide examples from literature for each:\n",
    "\n",
    "* Reinforcement of social norms\n",
    "* \"Echo chambers\" and polarization\n",
    "* Limits on innovation\n",
    "* (Note to self: are there any \"good\" effects of homophily? Research and include findings)"
   ]
  },
  {
   "cell_type": "markdown",
   "metadata": {},
   "source": [
    "## Measuring homophily (~15 minutes)\n",
    "\n",
    "#### Goal: walk through different ways of measuring homophily\n",
    "\n",
    "* Take a simple graphs and measure (this might be more complicated than I am thinking):\n",
    "    * E-I index [5]\n",
    "    * Assortativity/ assortativity coefficient [7][8]\n",
    "    * Other methods [6][9][12]\n",
    "* For each method, show the math, show the code, and show it applied to a small network \n",
    "* Note: I plan on having this code prewritten, with steps through each measure\n",
    "* Note: meet with profs about making sure I'm covering the main measures"
   ]
  },
  {
   "cell_type": "markdown",
   "metadata": {},
   "source": [
    "## Activity: generating a network with homophily (~30 minutes)\n",
    "\n",
    "* Have students incorporate homophily into an Erdos-Renyi graph\n",
    "    * Add attributes to nodes (can be simple - i.e. nodes have attribute A, B, or C)\n",
    "    * Adjust probability of connection based on whether nodes share an attribute\n",
    "* Compare generated graph to network attributes of a random graph\n",
    "    * modularity, degree, clustering coefficient, etc."
   ]
  },
  {
   "cell_type": "markdown",
   "metadata": {},
   "source": [
    "## Case study: homophily in Facebook social circles (~30 minutes)\n",
    "\n",
    "* Download Social circles: Facebook network: https://snap.stanford.edu/data/ego-Facebook.html\n",
    "    * Contains friends lists with attributes such as gender, political affiliation, age, etc.\n",
    "* Create a nice figure of the social circles\n",
    "* Activities such as:\n",
    "    * compare homophily measures across attributes - i.e. is homophily stronger by gender or age?\n",
    "    * detect communities, and then see if there is homophily in those communities\n",
    "    * add new edges based on node attributes, and then see if network attributes are similar to those of the original network"
   ]
  },
  {
   "cell_type": "markdown",
   "metadata": {},
   "source": [
    "## Further study\n",
    "\n",
    "* Other networks in which to study homophily: Twitter Political Polarization Dataset (https://snap.stanford.edu/data/twitter7.html), GitHub Collaboration Network (https://github.com/tmickleydoyle/github-collaboration-network), Collaboration Networks (Co-Authorship Networks) (https://www.pnas.org/doi/10.1073/pnas.0307545100)"
   ]
  },
  {
   "cell_type": "markdown",
   "metadata": {},
   "source": [
    "## Notes from presentation comments\n",
    "\n",
    "* look in Lazlo's textbook for modern methods of looking at homophily\n",
    "* origins of homophily in networks - get papers from Alyssa\n",
    "* "
   ]
  },
  {
   "cell_type": "markdown",
   "metadata": {},
   "source": [
    "_______\n",
    "\n",
    "## References and further resources:\n",
    "\n",
    "[1] McPherson, Miller, Lynn Smith-Lovin, and James M. Cook. \"Birds of a feather: Homophily in social networks.\" Annual review of sociology 27.1 (2001): 415-444.\n",
    "\n",
    "[2] Lazarsfeld, Paul F., and Robert K. Merton. \"Friendship as a social process: A substantive and methodological analysis.\" Freedom and control in modern society 18.1 (1954): 18-66.\n",
    "\n",
    "[3] McPherson, Miller, Lynn Smith-Lovin, and James M. Cook. \"Birds of a feather: Homophily in social networks.\" Annual review of sociology 27.1 (2001): 415-444.\n",
    "\n",
    "[4] Kim, Kibae, and Jörn Altmann. \"Effect of homophily on network formation.\" Communications in Nonlinear Science and Numerical Simulation 44 (2017): 482-494.\n",
    "\n",
    "[5] Krackhardt, David, and Robert N. Stern. \"Informal networks and organizational crises: An experimental simulation.\" Social psychology quarterly (1988): 123-140.\n",
    "\n",
    "[6] Oswal, Shiva. \"The Popularity-Homophily Index: A new way to measure Homophily in Directed Graphs.\" arXiv preprint arXiv:2109.00348 (2021).\n",
    "\n",
    "[7] Karimi, Fariba, and Marcos Oliveira. \"On the inadequacy of nominal assortativity for assessing homophily in networks.\" Scientific Reports 13.1 (2023): 21053.\n",
    "\n",
    "[8] Cohen, Israel, et al. \"Pearson correlation coefficient.\" Noise reduction in speech processing (2009): 1-4.\n",
    "\n",
    "[9] Lawrence, Barbara S., and Neha Parikh Shah. \"Homophily: Measures and meaning.\" Academy of Management Annals 14.2 (2020): 513-597.\n",
    "\n",
    "[10] Jackson, Matthew O., and Dunia López-Pintado. \"Diffusion and contagion in networks with heterogeneous agents and homophily.\" Network Science 1.1 (2013): 49-67.\n",
    "\n",
    "[11] Bu, Yi, Joy Parkinson, and Park Thaichon. \"Influencer marketing: Homophily, customer value co-creation behaviour and purchase intention.\" Journal of Retailing and Consumer Services 66 (2022): 102904.\n",
    "\n",
    "[12] Apollonio, Nicola, Paolo G. Franciosa, and Daniele Santoni. \"A novel method for assessing and measuring homophily in networks through second-order statistics.\" Scientific reports 12.1 (2022): 9757.\n"
   ]
  },
  {
   "cell_type": "code",
   "execution_count": null,
   "metadata": {},
   "outputs": [],
   "source": []
  }
 ],
 "metadata": {
  "kernelspec": {
   "display_name": "Python 3 (ipykernel)",
   "language": "python",
   "name": "python3"
  },
  "language_info": {
   "codemirror_mode": {
    "name": "ipython",
    "version": 3
   },
   "file_extension": ".py",
   "mimetype": "text/x-python",
   "name": "python",
   "nbconvert_exporter": "python",
   "pygments_lexer": "ipython3",
   "version": "3.12.4"
  }
 },
 "nbformat": 4,
 "nbformat_minor": 4
}
