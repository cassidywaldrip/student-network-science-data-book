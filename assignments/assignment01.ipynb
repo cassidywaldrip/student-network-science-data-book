{
 "cells": [
  {
   "cell_type": "code",
   "execution_count": 1,
   "id": "ad8dfd1f-11ac-44ff-8997-33cf763f47ec",
   "metadata": {},
   "outputs": [],
   "source": [
    "import networkx as nx"
   ]
  },
  {
   "cell_type": "code",
   "execution_count": null,
   "id": "727e0051-1046-40a5-a305-c6a711527bc0",
   "metadata": {},
   "outputs": [],
   "source": [
    "def my_pagerank(G, n):\n",
    "    \n",
    "    "
   ]
  }
 ],
 "metadata": {
  "kernelspec": {
   "display_name": "Python 3 (ipykernel)",
   "language": "python",
   "name": "python3"
  },
  "language_info": {
   "codemirror_mode": {
    "name": "ipython",
    "version": 3
   },
   "file_extension": ".py",
   "mimetype": "text/x-python",
   "name": "python",
   "nbconvert_exporter": "python",
   "pygments_lexer": "ipython3",
   "version": "3.12.4"
  }
 },
 "nbformat": 4,
 "nbformat_minor": 5
}
