{
 "cells": [
  {
   "cell_type": "code",
   "execution_count": 71,
   "id": "ad8dfd1f-11ac-44ff-8997-33cf763f47ec",
   "metadata": {},
   "outputs": [],
   "source": [
    "import networkx as nx\n",
    "import numpy as np\n",
    "import copy as cp"
   ]
  },
  {
   "cell_type": "markdown",
   "id": "48ca4d16-afb7-488c-89b9-40d00d743d75",
   "metadata": {},
   "source": [
    "### Question 3\n",
    "\n",
    "I chose to implement Google's PageRank centrality measure. \n",
    "\n",
    "All code is my own. I used https://pi.math.cornell.edu/~mec/Winter2009/RalucaRemus/Lecture3/lecture3.html as a reference."
   ]
  },
  {
   "cell_type": "code",
   "execution_count": 101,
   "id": "727e0051-1046-40a5-a305-c6a711527bc0",
   "metadata": {},
   "outputs": [],
   "source": [
    "'''\n",
    "Inputs- G: nx graph, p: damping factor between 0 and 1, max_iter: how many iterations before returning connectivity\n",
    "Output- connectivity_dict: dictionary of nodes to their connectivity \n",
    "'''\n",
    "def my_pagerank(G, p=0.15, max_iter=100):\n",
    "\n",
    "    # if G is an undirected graph, convert it to a directed graph with 2 directed edges for each undirected edge\n",
    "    if not nx.is_directed(G):\n",
    "        G = G.to_directed()\n",
    "\n",
    "    order = G.order()\n",
    "\n",
    "    # create vector connectivity - initialize connectivities to all be the same (normalized {0, 1})\n",
    "    connectivity = np.full((order,1), 1/order) \n",
    "\n",
    "    # create matrix A - transition matrix showing importance that each node gives to other nodes\n",
    "    A = np.zeros((order, order))\n",
    "    for node1 in range(order):\n",
    "        for node2 in range(order):\n",
    "            if node1 in list(G.neighbors(node2)):\n",
    "                deg = G.out_degree[node2]\n",
    "                A[node1][node2] = 1 / deg\n",
    "\n",
    "    # create matrix B - initialized to initial connectivities\n",
    "    B = np.full((order, order), 1 / order)\n",
    "    \n",
    "    # create matrix PR(A) - add in random \"surfing\" between nodes\n",
    "    PRA = (1 - p) * A + p * B\n",
    "\n",
    "    # multiply connectivities by PR(A) until convergence\n",
    "    for i in range(max_iter):\n",
    "        old_connectivity = cp.deepcopy(connectivity)\n",
    "        connectivity = np.matmul(PRA, connectivity)\n",
    "\n",
    "        # if we converge (to 6 decimal places), stop iterating\n",
    "        if np.array_equal(np.around(connectivity, decimals=6), np.around(old_connectivity, decimals=6)):\n",
    "            break\n",
    "        \n",
    "    # print(connectivity)\n",
    "    connectivity_dict = {}\n",
    "    for i, c in zip(range(order), connectivity):\n",
    "        connectivity_dict[i] = c[0]\n",
    "\n",
    "    return connectivity_dict\n",
    "    "
   ]
  },
  {
   "cell_type": "markdown",
   "id": "a91acf01-88cf-4a6d-b213-e06ff3c9e692",
   "metadata": {},
   "source": [
    "#### Error handling\n",
    "\n",
    "My function handles cases where:\n",
    "    - \n",
    "    -\n",
    "    -\n",
    "    -"
   ]
  },
  {
   "cell_type": "code",
   "execution_count": null,
   "id": "26ac9f0f-f2be-4470-a575-e69600b05cc3",
   "metadata": {},
   "outputs": [],
   "source": [
    "'''\n",
    "Comparing my implementation\n",
    "'''"
   ]
  },
  {
   "cell_type": "code",
   "execution_count": null,
   "id": "1a1a02c0-1f91-4a2c-a84c-b9e8db82e0ce",
   "metadata": {},
   "outputs": [],
   "source": []
  }
 ],
 "metadata": {
  "kernelspec": {
   "display_name": "Python 3 (ipykernel)",
   "language": "python",
   "name": "python3"
  },
  "language_info": {
   "codemirror_mode": {
    "name": "ipython",
    "version": 3
   },
   "file_extension": ".py",
   "mimetype": "text/x-python",
   "name": "python",
   "nbconvert_exporter": "python",
   "pygments_lexer": "ipython3",
   "version": "3.12.4"
  }
 },
 "nbformat": 4,
 "nbformat_minor": 5
}
